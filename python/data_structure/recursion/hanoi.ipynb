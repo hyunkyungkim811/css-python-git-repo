{
 "cells": [
  {
   "cell_type": "code",
   "execution_count": 3,
   "metadata": {
    "collapsed": true
   },
   "outputs": [],
   "source": [
    "def hanoi(n , from_, by_, to_):\n",
    "    if n == 1:\n",
    "        print(\"from {} to {} ; {} disc. moved\".format(from_, to_, n))\n",
    "        return\n",
    "    hanoi(n-1, from_, to_, by_)\n",
    "    print(\"from {} to {} ; {} disc. moved\".format(from_, to_, n))\n",
    "    hanoi(n-1, by_, from_, to_)\n",
    "        "
   ]
  },
  {
   "cell_type": "code",
   "execution_count": 4,
   "metadata": {
    "collapsed": false
   },
   "outputs": [
    {
     "name": "stdout",
     "output_type": "stream",
     "text": [
      "from a to c ; 1 disc. moved\n",
      "from a to b ; 2 disc. moved\n",
      "from c to b ; 1 disc. moved\n",
      "from a to c ; 3 disc. moved\n",
      "from b to a ; 1 disc. moved\n",
      "from b to c ; 2 disc. moved\n",
      "from a to c ; 1 disc. moved\n"
     ]
    }
   ],
   "source": [
    "hanoi(3, 'a', 'b', 'c')"
   ]
  },
  {
   "cell_type": "code",
   "execution_count": null,
   "metadata": {
    "collapsed": true
   },
   "outputs": [],
   "source": []
  }
 ],
 "metadata": {
  "kernelspec": {
   "display_name": "Python 3",
   "language": "python",
   "name": "python3"
  },
  "language_info": {
   "codemirror_mode": {
    "name": "ipython",
    "version": 3
   },
   "file_extension": ".py",
   "mimetype": "text/x-python",
   "name": "python",
   "nbconvert_exporter": "python",
   "pygments_lexer": "ipython3",
   "version": "3.6.0"
  }
 },
 "nbformat": 4,
 "nbformat_minor": 2
}
