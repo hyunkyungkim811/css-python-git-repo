{
 "cells": [
  {
   "cell_type": "code",
   "execution_count": 10,
   "metadata": {
    "collapsed": false,
    "deletable": true,
    "editable": true
   },
   "outputs": [
    {
     "ename": "SyntaxError",
     "evalue": "can't assign to operator (<ipython-input-10-bfb907d194d4>, line 4)",
     "output_type": "error",
     "traceback": [
      "\u001b[0;36m  File \u001b[0;32m\"<ipython-input-10-bfb907d194d4>\"\u001b[0;36m, line \u001b[0;32m4\u001b[0m\n\u001b[0;31m    start + end // 2 = mid\u001b[0m\n\u001b[0m    ^\u001b[0m\n\u001b[0;31mSyntaxError\u001b[0m\u001b[0;31m:\u001b[0m can't assign to operator\n"
     ]
    }
   ],
   "source": [
    "def binary_recursion(target, start, end):\n",
    "    li = range(start, end)\n",
    "    \n",
    "    (start + end) // 2 = mid\n",
    "    \n",
    "    if li[mid] == target:\n",
    "        return mid\n",
    "    elif li[mid] < target:\n",
    "        mid = start\n",
    "    elif li[mid] > target:\n",
    "        mid = end\n",
    "    elif start == end:\n",
    "        return \"none\"\n",
    "    \n",
    "    return binary_recursion(target, start, end) \n",
    "\n"
   ]
  },
  {
   "cell_type": "code",
   "execution_count": 3,
   "metadata": {
    "collapsed": true
   },
   "outputs": [],
   "source": [
    "li = list(range(10))"
   ]
  },
  {
   "cell_type": "code",
   "execution_count": 4,
   "metadata": {
    "collapsed": false
   },
   "outputs": [
    {
     "name": "stdout",
     "output_type": "stream",
     "text": [
      "[0, 1, 2, 3, 4, 5, 6, 7, 8, 9]\n"
     ]
    }
   ],
   "source": [
    "print(li)"
   ]
  },
  {
   "cell_type": "code",
   "execution_count": 6,
   "metadata": {
    "collapsed": false
   },
   "outputs": [
    {
     "name": "stdout",
     "output_type": "stream",
     "text": [
      "10\n"
     ]
    }
   ],
   "source": [
    "c = len(li)\n",
    "print(c)"
   ]
  },
  {
   "cell_type": "code",
   "execution_count": null,
   "metadata": {
    "collapsed": true
   },
   "outputs": [],
   "source": [
    "def binary_recursion(target, start, end):\n",
    "    li = range(start, end)\n",
    "    \n",
    "    (start + end) // 2 = mid\n",
    "    \n",
    "    #탈출조건\n",
    "    if li[mid] == target:\n",
    "        return mid\n",
    "    elif li[mid] < target:\n",
    "        mid = start\n",
    "    elif li[mid] > target:\n",
    "        mid = end\n",
    "    elif start ==??? end:\n",
    "        return \"none\"\n",
    "    \n",
    "    return binary_recursion(target, start, end) \n",
    "\n",
    "\n"
   ]
  }
 ],
 "metadata": {
  "kernelspec": {
   "display_name": "Python 3",
   "language": "python",
   "name": "python3"
  },
  "language_info": {
   "codemirror_mode": {
    "name": "ipython",
    "version": 3
   },
   "file_extension": ".py",
   "mimetype": "text/x-python",
   "name": "python",
   "nbconvert_exporter": "python",
   "pygments_lexer": "ipython3",
   "version": "3.6.0"
  }
 },
 "nbformat": 4,
 "nbformat_minor": 2
}
