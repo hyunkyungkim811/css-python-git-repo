{
 "cells": [
  {
   "cell_type": "code",
   "execution_count": 1,
   "metadata": {
    "collapsed": true,
    "deletable": true,
    "editable": true
   },
   "outputs": [],
   "source": [
    "import pickle"
   ]
  },
  {
   "cell_type": "code",
   "execution_count": 12,
   "metadata": {
    "collapsed": false,
    "deletable": true,
    "editable": true
   },
   "outputs": [
    {
     "data": {
      "text/plain": [
       "[{'greg': 95},\n",
       " {'john': 25},\n",
       " {'yang': 50},\n",
       " {'timothy': 15},\n",
       " {'melisa': 100},\n",
       " {'thor': 10},\n",
       " {'elen': 25},\n",
       " {'mark': 80},\n",
       " {'steve': 95},\n",
       " {'anna': 20}]"
      ]
     },
     "execution_count": 12,
     "metadata": {},
     "output_type": "execute_result"
    }
   ],
   "source": [
    "fp2 = open(\"class_A.bin\", \"rb\")\n",
    "pickle_li = []\n",
    "while True:\n",
    "    try:\n",
    "        data = pickle.load(fp2)\n",
    "        pickle_li.append(data)\n",
    "    except EOFError:\n",
    "        break\n",
    "pickle_li\n",
    "\n",
    "#EOF_ERROR; ran out of input; load(fp2)..._읽어올 데이터가 없음. --> 이럴때는 꼼수?를 쓴다?(try/except)"
   ]
  },
  {
   "cell_type": "code",
   "execution_count": null,
   "metadata": {
    "collapsed": true,
    "deletable": true,
    "editable": true
   },
   "outputs": [],
   "source": []
  },
  {
   "cell_type": "code",
   "execution_count": 2,
   "metadata": {
    "collapsed": true,
    "deletable": true,
    "editable": true
   },
   "outputs": [],
   "source": [
    "pickle.dump?\n",
    "\n",
    "#interface를 보여줌 (.dump?)\n"
   ]
  },
  {
   "cell_type": "code",
   "execution_count": 5,
   "metadata": {
    "collapsed": true,
    "deletable": true,
    "editable": true
   },
   "outputs": [],
   "source": [
    "# 이 파일의 객체를 그대로 빼서 돌린다 -> read로는 문자열로 가져오는데 이건 그냥 불러옴\n",
    "#\"rb\" -> read binary\n",
    "\n",
    "with open (\"class_A.bin\", \"rb\") as f:\n",
    "    data1 = pickle.load(f)\n",
    "    data2 = pickle.load(f)"
   ]
  },
  {
   "cell_type": "code",
   "execution_count": 6,
   "metadata": {
    "collapsed": false,
    "deletable": true,
    "editable": true
   },
   "outputs": [
    {
     "name": "stdout",
     "output_type": "stream",
     "text": [
      "{'greg': 95} {'john': 25}\n"
     ]
    }
   ],
   "source": [
    "#데이터 셋을 뽑아오는데 몇개인지 알수 없음.\n",
    "print(data1, data2)"
   ]
  },
  {
   "cell_type": "code",
   "execution_count": 7,
   "metadata": {
    "collapsed": true,
    "deletable": true,
    "editable": true
   },
   "outputs": [],
   "source": [
    "fp = open(\"abc.txt\", \"r\")"
   ]
  },
  {
   "cell_type": "code",
   "execution_count": 8,
   "metadata": {
    "collapsed": false,
    "deletable": true,
    "editable": true
   },
   "outputs": [
    {
     "data": {
      "text/plain": [
       "['im starving af\\n', 'give me some food\\n', 'please']"
      ]
     },
     "execution_count": 8,
     "metadata": {},
     "output_type": "execute_result"
    }
   ],
   "source": [
    "text_li = []\n",
    "while True:\n",
    "    data = fp.readline()\n",
    "    if data:\n",
    "        text_li.append(data)\n",
    "    else:\n",
    "        break\n",
    "text_li\n",
    "\n",
    "#append에 아무것도 없어도 에러를 안 냄.\n",
    "#피클은 다름.\n"
   ]
  },
  {
   "cell_type": "code",
   "execution_count": 14,
   "metadata": {
    "collapsed": true,
    "deletable": true,
    "editable": true
   },
   "outputs": [],
   "source": [
    "fp = open(\"abc.bin\", \"wb\")"
   ]
  },
  {
   "cell_type": "code",
   "execution_count": 17,
   "metadata": {
    "collapsed": false,
    "deletable": true,
    "editable": true
   },
   "outputs": [],
   "source": [
    "data = [\n",
    "    {'grag' : 95},\n",
    "    {'tom' : 85},\n",
    "    {'sara' : 56},\n",
    "]\n",
    "\n"
   ]
  },
  {
   "cell_type": "code",
   "execution_count": 19,
   "metadata": {
    "collapsed": true,
    "deletable": true,
    "editable": true
   },
   "outputs": [],
   "source": [
    "fp.close()\n",
    "\n",
    "fp2 = open(\"abc.bin\", \"rb\")"
   ]
  },
  {
   "cell_type": "code",
   "execution_count": 18,
   "metadata": {
    "collapsed": true,
    "deletable": true,
    "editable": true
   },
   "outputs": [],
   "source": [
    "for d in data:\n",
    "    pickle.dump(d, fp)"
   ]
  },
  {
   "cell_type": "code",
   "execution_count": 21,
   "metadata": {
    "collapsed": false,
    "deletable": true,
    "editable": true
   },
   "outputs": [
    {
     "data": {
      "text/plain": [
       "[{'grag': 95}, {'tom': 85}, {'sara': 56}]"
      ]
     },
     "execution_count": 21,
     "metadata": {},
     "output_type": "execute_result"
    }
   ],
   "source": [
    "\n",
    "result = []\n",
    "for i in range(3):\n",
    "    result.append(pickle.load(fp2))\n",
    "result"
   ]
  },
  {
   "cell_type": "code",
   "execution_count": null,
   "metadata": {
    "collapsed": true,
    "deletable": true,
    "editable": true
   },
   "outputs": [],
   "source": []
  }
 ],
 "metadata": {
  "kernelspec": {
   "display_name": "Python 3",
   "language": "python",
   "name": "python3"
  },
  "language_info": {
   "codemirror_mode": {
    "name": "ipython",
    "version": 3
   },
   "file_extension": ".py",
   "mimetype": "text/x-python",
   "name": "python",
   "nbconvert_exporter": "python",
   "pygments_lexer": "ipython3",
   "version": "3.6.0"
  }
 },
 "nbformat": 4,
 "nbformat_minor": 2
}
