{
 "cells": [
  {
   "cell_type": "code",
   "execution_count": 1,
   "metadata": {
    "collapsed": true,
    "deletable": true,
    "editable": true
   },
   "outputs": [],
   "source": [
    "class Node:\n",
    "    def __init__(self, data):\n",
    "        self.data = data\n",
    "        self.next = None\n",
    "        "
   ]
  },
  {
   "cell_type": "code",
   "execution_count": 27,
   "metadata": {
    "collapsed": true,
    "deletable": true,
    "editable": true
   },
   "outputs": [],
   "source": [
    "class Linked_list:\n",
    "    def __init__(self):\n",
    "        dummy = Node(\"Nothing?\")\n",
    "        \n",
    "        self.head = dummy\n",
    "        self.tail = dummy\n",
    "        \n",
    "        self.current = None\n",
    "        self.before = None\n",
    "        \n",
    "        self.num_of_data = 0\n",
    "        \n",
    "    def insert_(self, data):\n",
    "        new_node = Node(data)\n",
    "        \n",
    "        self.tail.next = new_node\n",
    "        \n",
    "        self.tail = new_node\n",
    "        \n",
    "        self.num_of_data += 1\n",
    "        \n",
    "    def first_(self):\n",
    "        if self.num_of_data == 0:\n",
    "            return None\n",
    "        \n",
    "        self.before = self.head\n",
    "        self.current = self.head.next\n",
    "        \n",
    "        return self.current.data\n",
    "    \n",
    "    def next_(self):\n",
    "        if self.current.next == None:\n",
    "            return None\n",
    "        \n",
    "        self.before = self.current\n",
    "        self.current = self.current.next\n",
    "        return self.current.data\n",
    "      \n",
    "    def delete(self):\n",
    "        ret_data = self.current\n",
    "        \n",
    "        if self.current is self.tail:\n",
    "            self.tail = self.before\n",
    "        \n",
    "        self.before.next = self.current.next\n",
    "        self.currnet = self.before\n",
    "        \n",
    "        self.num_of_data -= 1\n",
    "        \n",
    "        \n",
    "        return ret_data\n",
    "    \n",
    "    def size(self):\n",
    "        return self.num_of_data"
   ]
  },
  {
   "cell_type": "code",
   "execution_count": 28,
   "metadata": {
    "collapsed": true,
    "deletable": true,
    "editable": true
   },
   "outputs": [],
   "source": [
    "d_list = Linked_list()"
   ]
  },
  {
   "cell_type": "code",
   "execution_count": 30,
   "metadata": {
    "collapsed": true,
    "deletable": true,
    "editable": true
   },
   "outputs": [],
   "source": [
    "d_list.insert_(2)\n",
    "d_list.insert_(3)\n",
    "d_list.insert_(1)\n",
    "d_list.insert_(5)\n",
    "d_list.insert_(2)\n",
    "d_list.insert_(10)\n",
    "d_list.insert_(7)\n",
    "d_list.insert_(2)\n"
   ]
  },
  {
   "cell_type": "code",
   "execution_count": 31,
   "metadata": {
    "collapsed": false,
    "deletable": true,
    "editable": true
   },
   "outputs": [
    {
     "name": "stdout",
     "output_type": "stream",
     "text": [
      "the num. of data : 8\n",
      "2 "
     ]
    }
   ],
   "source": [
    "data = d_list.first_()\n",
    "\n",
    "print(\"the num. of data : {}\".format(d_list.size()))\n",
    "\n",
    "if data:\n",
    "    print(data, end = ' ')\n",
    "else:\n",
    "    print(\"there's no data\")"
   ]
  },
  {
   "cell_type": "code",
   "execution_count": 32,
   "metadata": {
    "collapsed": false
   },
   "outputs": [
    {
     "name": "stdout",
     "output_type": "stream",
     "text": [
      "3 "
     ]
    }
   ],
   "source": [
    "data = d_list.next_()\n",
    "\n",
    "if data:\n",
    "    print(data, end = ' ')\n",
    "else:\n",
    "    print(\"no more data\")"
   ]
  },
  {
   "cell_type": "code",
   "execution_count": null,
   "metadata": {
    "collapsed": true
   },
   "outputs": [],
   "source": [
    "data = d_list.delete()\n",
    "if data:\n",
    "    print(data, end = ' ')"
   ]
  }
 ],
 "metadata": {
  "kernelspec": {
   "display_name": "Python 3",
   "language": "python",
   "name": "python3"
  },
  "language_info": {
   "codemirror_mode": {
    "name": "ipython",
    "version": 3
   },
   "file_extension": ".py",
   "mimetype": "text/x-python",
   "name": "python",
   "nbconvert_exporter": "python",
   "pygments_lexer": "ipython3",
   "version": "3.6.0"
  }
 },
 "nbformat": 4,
 "nbformat_minor": 2
}
