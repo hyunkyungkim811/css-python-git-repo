{
 "cells": [
  {
   "cell_type": "code",
   "execution_count": null,
   "metadata": {
    "collapsed": true
   },
   "outputs": [],
   "source": [
    "class Heap:\n",
    "    def get_parent_idx(self,indx):\n",
    "        #부모의 인덱스를 알려주는 것.\n",
    "        \n",
    "    def get_left_child_idx(self, indx):\n",
    "        #왼쪽 자식의 인덱스를 알려줌.\n",
    "        \n",
    "    def get_right_child_idx(self, indx):\n",
    "        #오른쪽 자식의 인덱스를 알려줌\n",
    "    \n",
    "    def __init__(self, s_min_mac = \"min\")\n",
    "        #개시자\n",
    "        self.dynamic_arr = [None, ]\n",
    "        self.num_of_data = 0\n",
    "        \n",
    "    def is_empty(self):\n",
    "        \n",
    "    def size(self):\n",
    "        return self.num_of_data\n",
    "    \n",
    "    def insert(self, data):\n",
    "        #노드의 삽입\n",
    "        \n",
    "    def which_is_prior_child(self, indx):\n",
    "        #단말노드면 none, 우선순위가 높은 자식노드의 인덱스\n",
    "        \n",
    "    def delete(self):\n",
    "        \n",
    "        \n",
    "    #직접 다이나믹 어레이에 접근해서 출력해볼것(논리적으로 트리가 어떻게 들어갔는지 확인할것.)"
   ]
  }
 ],
 "metadata": {
  "kernelspec": {
   "display_name": "Python 3",
   "language": "python",
   "name": "python3"
  },
  "language_info": {
   "codemirror_mode": {
    "name": "ipython",
    "version": 3
   },
   "file_extension": ".py",
   "mimetype": "text/x-python",
   "name": "python",
   "nbconvert_exporter": "python",
   "pygments_lexer": "ipython3",
   "version": "3.6.0"
  }
 },
 "nbformat": 4,
 "nbformat_minor": 2
}
